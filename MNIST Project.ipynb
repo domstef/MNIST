{
 "cells": [
  {
   "cell_type": "markdown",
   "id": "9a9db5e1",
   "metadata": {},
   "source": [
    "# Import modules"
   ]
  },
  {
   "cell_type": "code",
   "execution_count": 1,
   "id": "fc115eb7",
   "metadata": {},
   "outputs": [],
   "source": [
    "import tensorflow as tf\n",
    "import tensorflow_datasets as tfds"
   ]
  },
  {
   "cell_type": "markdown",
   "id": "2b4108d0",
   "metadata": {},
   "source": [
    "# Preprocessing the data"
   ]
  },
  {
   "cell_type": "code",
   "execution_count": 2,
   "id": "b3a74024",
   "metadata": {},
   "outputs": [],
   "source": [
    "BUFFER_SIZE = 70_000\n",
    "BATCH_SIZE = 128\n",
    "NUM_EPOCHS = 20"
   ]
  },
  {
   "cell_type": "code",
   "execution_count": 3,
   "id": "fb48d4d5",
   "metadata": {},
   "outputs": [],
   "source": [
    "mnist_dataset, mnist_info = tfds.load(name='mnist', with_info=True, as_supervised=True)"
   ]
  },
  {
   "cell_type": "code",
   "execution_count": 4,
   "id": "2d3798fc",
   "metadata": {},
   "outputs": [],
   "source": [
    "mnist_train, mnist_test =mnist_dataset['train'], mnist_dataset['test']"
   ]
  },
  {
   "cell_type": "code",
   "execution_count": 5,
   "id": "84a63a66",
   "metadata": {},
   "outputs": [],
   "source": [
    "def scale (image,label):\n",
    "    image = tf.cast(image, tf.float32)\n",
    "    image /= 255.\n",
    "    \n",
    "    return image, label\n",
    "\n",
    "train_and_validation_data = mnist_train.map(scale)\n",
    "test_data =mnist_test.map(scale)"
   ]
  },
  {
   "cell_type": "code",
   "execution_count": 6,
   "id": "0b497c90",
   "metadata": {},
   "outputs": [],
   "source": [
    "num_validation_samples = 0.1*mnist_info.splits['train'].num_examples\n",
    "num_validation_samples = tf.cast(num_validation_samples, tf.int64)"
   ]
  },
  {
   "cell_type": "code",
   "execution_count": 7,
   "id": "b1ab8286",
   "metadata": {},
   "outputs": [],
   "source": [
    "num_test_samples = mnist_info.splits['test'].num_examples\n",
    "num_test_samples = tf.cast(num_test_samples, tf.int64)"
   ]
  },
  {
   "cell_type": "code",
   "execution_count": 8,
   "id": "bb8707fc",
   "metadata": {},
   "outputs": [],
   "source": [
    "train_and_validation_data = train_and_validation_data.shuffle(BUFFER_SIZE)"
   ]
  },
  {
   "cell_type": "code",
   "execution_count": 9,
   "id": "5cb72b27",
   "metadata": {},
   "outputs": [],
   "source": [
    "train_data = train_and_validation_data.skip(num_validation_samples)\n",
    "validation_data = train_and_validation_data.take(num_validation_samples)"
   ]
  },
  {
   "cell_type": "code",
   "execution_count": 10,
   "id": "bfac4bc8",
   "metadata": {},
   "outputs": [],
   "source": [
    "train_data = train_data.batch(BATCH_SIZE)\n",
    "validation_data = validation_data.batch(num_validation_samples)\n",
    "test_data = test_data.batch(num_test_samples)"
   ]
  },
  {
   "cell_type": "markdown",
   "id": "73d6df70",
   "metadata": {},
   "source": [
    "# Creating model"
   ]
  },
  {
   "cell_type": "code",
   "execution_count": 11,
   "id": "db42361a",
   "metadata": {},
   "outputs": [
    {
     "name": "stdout",
     "output_type": "stream",
     "text": [
      "Model: \"sequential\"\n",
      "_________________________________________________________________\n",
      "Layer (type)                 Output Shape              Param #   \n",
      "=================================================================\n",
      "conv2d (Conv2D)              (None, 24, 24, 50)        1300      \n",
      "_________________________________________________________________\n",
      "max_pooling2d (MaxPooling2D) (None, 12, 12, 50)        0         \n",
      "_________________________________________________________________\n",
      "conv2d_1 (Conv2D)            (None, 10, 10, 50)        22550     \n",
      "_________________________________________________________________\n",
      "max_pooling2d_1 (MaxPooling2 (None, 5, 5, 50)          0         \n",
      "_________________________________________________________________\n",
      "flatten (Flatten)            (None, 1250)              0         \n",
      "_________________________________________________________________\n",
      "dense (Dense)                (None, 10)                12510     \n",
      "=================================================================\n",
      "Total params: 36,360\n",
      "Trainable params: 36,360\n",
      "Non-trainable params: 0\n",
      "_________________________________________________________________\n"
     ]
    }
   ],
   "source": [
    "clf = tf.keras.Sequential([\n",
    "    tf.keras.layers.Conv2D(50, 5, activation = 'relu', input_shape = (28,28,1)),\n",
    "    tf.keras.layers.MaxPool2D(pool_size=(2,2)),\n",
    "    tf.keras.layers.Conv2D(50, 3, activation = 'relu'),\n",
    "    tf.keras.layers.MaxPool2D(pool_size=(2,2)),\n",
    "    tf.keras.layers.Flatten(),\n",
    "    tf.keras.layers.Dense(10)\n",
    "])\n",
    "\n",
    "clf.summary()"
   ]
  },
  {
   "cell_type": "code",
   "execution_count": 12,
   "id": "6e281dfc",
   "metadata": {},
   "outputs": [],
   "source": [
    "loss_fn = tf.keras.losses.SparseCategoricalCrossentropy(from_logits=True)"
   ]
  },
  {
   "cell_type": "code",
   "execution_count": 13,
   "id": "6743ba4b",
   "metadata": {},
   "outputs": [],
   "source": [
    "clf.compile(optimizer='adam', loss = loss_fn, metrics=['accuracy'])"
   ]
  },
  {
   "cell_type": "code",
   "execution_count": 14,
   "id": "3cb78a8c",
   "metadata": {},
   "outputs": [],
   "source": [
    "early_stopping = tf.keras.callbacks.EarlyStopping(\n",
    "    monitor = 'val_loss',\n",
    "    mode = 'auto',\n",
    "    min_delta = 0,\n",
    "    patience = 2,\n",
    "    verbose = 0,\n",
    "    restore_best_weights=True\n",
    ")"
   ]
  },
  {
   "cell_type": "code",
   "execution_count": 15,
   "id": "f8dc808a",
   "metadata": {},
   "outputs": [
    {
     "name": "stdout",
     "output_type": "stream",
     "text": [
      "Epoch 1/20\n",
      "422/422 - 22s - loss: 0.2743 - accuracy: 0.9213 - val_loss: 0.0741 - val_accuracy: 0.9765\n",
      "Epoch 2/20\n",
      "422/422 - 17s - loss: 0.0748 - accuracy: 0.9776 - val_loss: 0.0503 - val_accuracy: 0.9842\n",
      "Epoch 3/20\n",
      "422/422 - 13s - loss: 0.0547 - accuracy: 0.9838 - val_loss: 0.0488 - val_accuracy: 0.9862\n",
      "Epoch 4/20\n",
      "422/422 - 13s - loss: 0.0439 - accuracy: 0.9866 - val_loss: 0.0332 - val_accuracy: 0.9892\n",
      "Epoch 5/20\n",
      "422/422 - 13s - loss: 0.0374 - accuracy: 0.9888 - val_loss: 0.0276 - val_accuracy: 0.9918\n",
      "Epoch 6/20\n",
      "422/422 - 13s - loss: 0.0317 - accuracy: 0.9904 - val_loss: 0.0236 - val_accuracy: 0.9933\n",
      "Epoch 7/20\n",
      "422/422 - 13s - loss: 0.0280 - accuracy: 0.9918 - val_loss: 0.0248 - val_accuracy: 0.9937\n",
      "Epoch 8/20\n",
      "422/422 - 13s - loss: 0.0260 - accuracy: 0.9922 - val_loss: 0.0212 - val_accuracy: 0.9938\n",
      "Epoch 9/20\n",
      "422/422 - 13s - loss: 0.0218 - accuracy: 0.9934 - val_loss: 0.0204 - val_accuracy: 0.9937\n",
      "Epoch 10/20\n",
      "422/422 - 13s - loss: 0.0198 - accuracy: 0.9937 - val_loss: 0.0126 - val_accuracy: 0.9962\n",
      "Epoch 11/20\n",
      "422/422 - 13s - loss: 0.0164 - accuracy: 0.9946 - val_loss: 0.0128 - val_accuracy: 0.9957\n",
      "Epoch 12/20\n",
      "422/422 - 13s - loss: 0.0162 - accuracy: 0.9951 - val_loss: 0.0126 - val_accuracy: 0.9970\n"
     ]
    },
    {
     "data": {
      "text/plain": [
       "<tensorflow.python.keras.callbacks.History at 0x23183e401f0>"
      ]
     },
     "execution_count": 15,
     "metadata": {},
     "output_type": "execute_result"
    }
   ],
   "source": [
    "clf.fit(\n",
    "    train_data,\n",
    "    epochs=NUM_EPOCHS,\n",
    "    callbacks=[early_stopping],\n",
    "    validation_data=validation_data,\n",
    "    verbose = 2\n",
    ")"
   ]
  },
  {
   "cell_type": "markdown",
   "id": "842b93b6",
   "metadata": {},
   "source": [
    "# Testing the model"
   ]
  },
  {
   "cell_type": "code",
   "execution_count": 38,
   "id": "ad568422",
   "metadata": {},
   "outputs": [
    {
     "name": "stdout",
     "output_type": "stream",
     "text": [
      "1/1 [==============================] - 1s 533ms/step - loss: 0.0327 - accuracy: 0.9905\n",
      "Test loss: 0.03266 \n",
      "Test accuracy: 0.99050\n"
     ]
    }
   ],
   "source": [
    "test_loss, test_accuracy = clf.evaluate(test_data)\n",
    "print('Test loss: {0:.5f} \\nTest accuracy: {1:.5f}'.format(test_loss, test_accuracy))"
   ]
  },
  {
   "cell_type": "code",
   "execution_count": 42,
   "id": "af59ff71",
   "metadata": {},
   "outputs": [],
   "source": [
    "import matplotlib.pyplot as plt\n",
    "import numpy as np\n",
    "for img, lbl in test_data.take(1):\n",
    "    img_test = img.numpy()\n",
    "    lbl_test = lbl.numpy()\n",
    "#print(img_test.shape)\n",
    "img_plot = np.reshape(img_test, (10000, 28, 28))"
   ]
  },
  {
   "cell_type": "code",
   "execution_count": 72,
   "id": "1c78aca7",
   "metadata": {},
   "outputs": [
    {
     "data": {
      "image/png": "[encoded data removed]",
      "text/plain": [
       "<Figure size 1224x1080 with 10 Axes>"
      ]
     },
     "metadata": {
      "needs_background": "light"
     },
     "output_type": "display_data"
    },
    {
     "data": {
      "text/plain": [
       "<Figure size 720x432 with 0 Axes>"
      ]
     },
     "metadata": {},
     "output_type": "display_data"
    }
   ],
   "source": [
    "import random\n",
    "\n",
    "randomlist = random.sample(range(1, 10000), 5)\n",
    "fig, axs = plt.subplots(5, 2, figsize=(17, 15))\n",
    "fig.tight_layout(pad=5.0)\n",
    "plt.figure(figsize=(10,6))\n",
    "j = 0\n",
    "for i in randomlist:\n",
    "\n",
    "    axs[j,0].set_title(\"Label: {}\".format(lbl_test[i-1]))\n",
    "    axs[j,0].imshow(img_plot[i-1], cmap=\"gray\")\n",
    "    \n",
    "    \n",
    "    pred_img = clf.predict(img_test[i-1:i])\n",
    "    prob = tf.nn.softmax(pred_img).numpy()\n",
    "   \n",
    "    axs[j,1].bar(x=[1,2,3,4,5,6,7,8,9,10], height=prob[0], tick_label=[\"0\",\"1\",\"2\",\"3\",\"4\",\"5\",\"6\",\"7\",\"8\",\"9\"])\n",
    "    j=j+1\n"
   ]
  },
  {
   "cell_type": "code",
   "execution_count": null,
   "id": "f8c4a5ba",
   "metadata": {},
   "outputs": [],
   "source": []
  }
 ],
 "metadata": {
  "kernelspec": {
   "display_name": "Python 3",
   "language": "python",
   "name": "python3"
  },
  "language_info": {
   "codemirror_mode": {
    "name": "ipython",
    "version": 3
   },
   "file_extension": ".py",
   "mimetype": "text/x-python",
   "name": "python",
   "nbconvert_exporter": "python",
   "pygments_lexer": "ipython3",
   "version": "3.8.8"
  }
 },
 "nbformat": 4,
 "nbformat_minor": 5
}
